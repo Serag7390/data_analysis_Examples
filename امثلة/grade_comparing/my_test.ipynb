{
 "cells": [
  {
   "cell_type": "code",
   "execution_count": 1,
   "id": "96936008-c66e-460a-afc9-38bc7e0f6bf8",
   "metadata": {},
   "outputs": [
    {
     "name": "stdout",
     "output_type": "stream",
     "text": [
      "<class 'pandas.core.frame.DataFrame'>\n",
      "RangeIndex: 1000 entries, 0 to 999\n",
      "Data columns (total 4 columns):\n",
      " #   Column         Non-Null Count  Dtype \n",
      "---  ------         --------------  ----- \n",
      " 0   gender         1000 non-null   object\n",
      " 1   math score     1000 non-null   int64 \n",
      " 2   reading score  1000 non-null   int64 \n",
      " 3   writing score  1000 non-null   int64 \n",
      "dtypes: int64(3), object(1)\n",
      "memory usage: 31.4+ KB\n"
     ]
    }
   ],
   "source": [
    "import pandas as pd \n",
    "\n",
    "df = pd.read_csv('Students_Exams.csv')\n",
    "\n",
    "df.info()"
   ]
  },
  {
   "cell_type": "code",
   "execution_count": 2,
   "id": "bffa0ca6-446d-4441-ace7-3d6072719678",
   "metadata": {},
   "outputs": [
    {
     "name": "stdout",
     "output_type": "stream",
     "text": [
      "<class 'pandas.core.frame.DataFrame'>\n",
      "RangeIndex: 1000 entries, 0 to 999\n",
      "Data columns (total 4 columns):\n",
      " #   Column         Non-Null Count  Dtype \n",
      "---  ------         --------------  ----- \n",
      " 0   gender         1000 non-null   object\n",
      " 1   math_score     1000 non-null   int64 \n",
      " 2   reading_score  1000 non-null   int64 \n",
      " 3   writing_score  1000 non-null   int64 \n",
      "dtypes: int64(3), object(1)\n",
      "memory usage: 31.4+ KB\n"
     ]
    }
   ],
   "source": [
    "df.rename(columns =\n",
    "    {\n",
    "        'math score' : 'math_score',\n",
    "        'reading score' : 'reading_score',\n",
    "        'writing score' : 'writing_score'\n",
    "    },inplace = True\n",
    ")\n",
    "df.info()"
   ]
  },
  {
   "cell_type": "code",
   "execution_count": 3,
   "id": "fa08ad8f-597a-49c3-aa4d-6be0e27a97cc",
   "metadata": {},
   "outputs": [],
   "source": [
    "statics_df = pd.DataFrame(columns = ['statics', 'math', 'reading', 'writing']\n",
    "    \n",
    ")"
   ]
  },
  {
   "cell_type": "code",
   "execution_count": null,
   "id": "bed776ec-1663-4540-a6f2-cf4ca89cd3fc",
   "metadata": {},
   "outputs": [],
   "source": []
  },
  {
   "cell_type": "code",
   "execution_count": 4,
   "id": "c35d9cbf-32c5-4d41-a3f6-ad79f32f85f0",
   "metadata": {},
   "outputs": [],
   "source": [
    "x = df['math_score'].count()\n",
    "y = df['reading_score'].count()\n",
    "z = df['writing_score'].count()\n",
    "\n",
    "row = {'statics':'count', 'math':x, 'reading':y, 'writing':z}\n",
    "\n",
    "\n",
    "statics_df = pd.concat([statics_df, pd.DataFrame.from_records([row])], ignore_index=True)"
   ]
  },
  {
   "cell_type": "code",
   "execution_count": 5,
   "id": "63ed1f5a-35a1-47c8-bb14-96eb09cddac6",
   "metadata": {},
   "outputs": [],
   "source": [
    "x = df['math_score'].min()\n",
    "y = df['reading_score'].min()\n",
    "z = df['writing_score'].min()\n",
    "\n",
    "row = {'statics':'min', 'math':x, 'reading':y, 'writing':z}\n",
    "\n",
    "\n",
    "statics_df = pd.concat([statics_df, pd.DataFrame.from_records([row])], ignore_index=True)"
   ]
  },
  {
   "cell_type": "code",
   "execution_count": 6,
   "id": "7e0c0137-2f3c-4433-9cc5-80b1f056ce5d",
   "metadata": {},
   "outputs": [],
   "source": [
    "x = df['math_score'].max()\n",
    "y = df['reading_score'].max()\n",
    "z = df['writing_score'].max()\n",
    "\n",
    "row = {'statics':'max', 'math':x, 'reading':y, 'writing':z}\n",
    "\n",
    "\n",
    "statics_df = pd.concat([statics_df, pd.DataFrame.from_records([row])], ignore_index=True)"
   ]
  },
  {
   "cell_type": "code",
   "execution_count": 7,
   "id": "ce48d6e8-0dc0-4467-9b41-e2b38238dcb2",
   "metadata": {},
   "outputs": [],
   "source": [
    "x = df['math_score'].mean()\n",
    "y = df['reading_score'].mean()\n",
    "z = df['writing_score'].mean()\n",
    "\n",
    "row = {'statics':'mean', 'math':x, 'reading':y, 'writing':z}\n",
    "\n",
    "\n",
    "statics_df = pd.concat([statics_df, pd.DataFrame.from_records([row])], ignore_index=True)"
   ]
  },
  {
   "cell_type": "code",
   "execution_count": 8,
   "id": "2032b02d-8cce-4bef-98af-10517a547e2f",
   "metadata": {},
   "outputs": [],
   "source": [
    "x = df['math_score'].median()\n",
    "y = df['reading_score'].median()\n",
    "z = df['writing_score'].median()\n",
    "\n",
    "row = {'statics':'median', 'math':x, 'reading':y, 'writing':z}\n",
    "\n",
    "\n",
    "statics_df = pd.concat([statics_df, pd.DataFrame.from_records([row])], ignore_index=True)"
   ]
  },
  {
   "cell_type": "code",
   "execution_count": 9,
   "id": "94581823-af17-4a9c-99c9-b79a39604e81",
   "metadata": {},
   "outputs": [],
   "source": [
    "x = df['math_score'].std()\n",
    "y = df['reading_score'].std()\n",
    "z = df['writing_score'].std()\n",
    "\n",
    "row = {'statics':'std', 'math':x, 'reading':y, 'writing':z}\n",
    "\n",
    "\n",
    "statics_df = pd.concat([statics_df, pd.DataFrame.from_records([row])], ignore_index=True)"
   ]
  },
  {
   "cell_type": "code",
   "execution_count": 10,
   "id": "6b0ae0c4-f90a-4317-baa7-7e4f10775c60",
   "metadata": {},
   "outputs": [],
   "source": [
    "x = df['math_score'].mode()[0]\n",
    "y = df['reading_score'].mode()[0]\n",
    "z = df['writing_score'].mode()[0]\n",
    "\n",
    "row = {'statics':'mode', 'math':x, 'reading':y, 'writing':z}\n",
    "\n",
    "\n",
    "statics_df = pd.concat([statics_df, pd.DataFrame.from_records([row])], ignore_index=True)"
   ]
  },
  {
   "cell_type": "code",
   "execution_count": 12,
   "id": "cd61372c-fffa-4a6c-9384-632a370743e0",
   "metadata": {},
   "outputs": [
    {
     "data": {
      "text/html": [
       "<div>\n",
       "<style scoped>\n",
       "    .dataframe tbody tr th:only-of-type {\n",
       "        vertical-align: middle;\n",
       "    }\n",
       "\n",
       "    .dataframe tbody tr th {\n",
       "        vertical-align: top;\n",
       "    }\n",
       "\n",
       "    .dataframe thead th {\n",
       "        text-align: right;\n",
       "    }\n",
       "</style>\n",
       "<table border=\"1\" class=\"dataframe\">\n",
       "  <thead>\n",
       "    <tr style=\"text-align: right;\">\n",
       "      <th></th>\n",
       "      <th>statics</th>\n",
       "      <th>math</th>\n",
       "      <th>reading</th>\n",
       "      <th>writing</th>\n",
       "    </tr>\n",
       "  </thead>\n",
       "  <tbody>\n",
       "    <tr>\n",
       "      <th>0</th>\n",
       "      <td>count</td>\n",
       "      <td>1000</td>\n",
       "      <td>1000</td>\n",
       "      <td>1000</td>\n",
       "    </tr>\n",
       "    <tr>\n",
       "      <th>1</th>\n",
       "      <td>min</td>\n",
       "      <td>0</td>\n",
       "      <td>17</td>\n",
       "      <td>10</td>\n",
       "    </tr>\n",
       "    <tr>\n",
       "      <th>2</th>\n",
       "      <td>max</td>\n",
       "      <td>100</td>\n",
       "      <td>100</td>\n",
       "      <td>100</td>\n",
       "    </tr>\n",
       "    <tr>\n",
       "      <th>3</th>\n",
       "      <td>mean</td>\n",
       "      <td>66.089</td>\n",
       "      <td>69.169</td>\n",
       "      <td>68.054</td>\n",
       "    </tr>\n",
       "    <tr>\n",
       "      <th>4</th>\n",
       "      <td>median</td>\n",
       "      <td>66.0</td>\n",
       "      <td>70.0</td>\n",
       "      <td>69.0</td>\n",
       "    </tr>\n",
       "    <tr>\n",
       "      <th>5</th>\n",
       "      <td>std</td>\n",
       "      <td>15.16308</td>\n",
       "      <td>14.600192</td>\n",
       "      <td>15.195657</td>\n",
       "    </tr>\n",
       "    <tr>\n",
       "      <th>6</th>\n",
       "      <td>mode</td>\n",
       "      <td>65</td>\n",
       "      <td>72</td>\n",
       "      <td>74</td>\n",
       "    </tr>\n",
       "  </tbody>\n",
       "</table>\n",
       "</div>"
      ],
      "text/plain": [
       "  statics      math    reading    writing\n",
       "0   count      1000       1000       1000\n",
       "1     min         0         17         10\n",
       "2     max       100        100        100\n",
       "3    mean    66.089     69.169     68.054\n",
       "4  median      66.0       70.0       69.0\n",
       "5     std  15.16308  14.600192  15.195657\n",
       "6    mode        65         72         74"
      ]
     },
     "execution_count": 12,
     "metadata": {},
     "output_type": "execute_result"
    }
   ],
   "source": [
    "statics_df"
   ]
  },
  {
   "cell_type": "code",
   "execution_count": null,
   "id": "92ebecd9-4369-4bd6-a1ba-ba230632c24e",
   "metadata": {},
   "outputs": [],
   "source": []
  },
  {
   "cell_type": "code",
   "execution_count": null,
   "id": "2e288d42-0afd-4e82-b79d-c390f129a9c2",
   "metadata": {},
   "outputs": [],
   "source": []
  },
  {
   "cell_type": "code",
   "execution_count": null,
   "id": "c283eba3-969d-45b0-a212-f0c1f3257392",
   "metadata": {},
   "outputs": [],
   "source": []
  },
  {
   "cell_type": "code",
   "execution_count": null,
   "id": "519432d4-32ba-448d-839f-62c75c3b8234",
   "metadata": {},
   "outputs": [],
   "source": [
    " "
   ]
  },
  {
   "cell_type": "code",
   "execution_count": null,
   "id": "68705112-3100-4170-96b9-6d4aff59a78e",
   "metadata": {},
   "outputs": [],
   "source": []
  },
  {
   "cell_type": "code",
   "execution_count": null,
   "id": "d81f01ac-cc1b-460d-82b7-b70d1f5294de",
   "metadata": {},
   "outputs": [],
   "source": []
  },
  {
   "cell_type": "code",
   "execution_count": null,
   "id": "0d499413-28e5-49d1-a8dc-c64504ba0ed6",
   "metadata": {},
   "outputs": [],
   "source": []
  },
  {
   "cell_type": "code",
   "execution_count": null,
   "id": "29fc2e92-9cec-409d-a23f-7bcfb385f87e",
   "metadata": {},
   "outputs": [],
   "source": []
  },
  {
   "cell_type": "code",
   "execution_count": null,
   "id": "d4c28d08-86ed-4242-8f96-9702dcd181b3",
   "metadata": {},
   "outputs": [],
   "source": []
  },
  {
   "cell_type": "code",
   "execution_count": null,
   "id": "f8434809-4073-4570-9ada-a638a85fc168",
   "metadata": {},
   "outputs": [],
   "source": []
  },
  {
   "cell_type": "code",
   "execution_count": null,
   "id": "88134101-ee84-4b51-9643-b1ee7a75b3e6",
   "metadata": {},
   "outputs": [],
   "source": []
  },
  {
   "cell_type": "code",
   "execution_count": null,
   "id": "a067796c-6d51-4012-aeaf-6285f05cd12c",
   "metadata": {},
   "outputs": [],
   "source": []
  },
  {
   "cell_type": "code",
   "execution_count": null,
   "id": "da6f34be-f0b8-4f55-88a7-f908c98f37a7",
   "metadata": {},
   "outputs": [],
   "source": []
  },
  {
   "cell_type": "code",
   "execution_count": null,
   "id": "e7880dd6-7bf8-48b0-8067-aeca0517ffe4",
   "metadata": {},
   "outputs": [],
   "source": []
  },
  {
   "cell_type": "code",
   "execution_count": null,
   "id": "55b59032-539c-498e-bdd3-92b8b05e60ba",
   "metadata": {},
   "outputs": [],
   "source": []
  },
  {
   "cell_type": "code",
   "execution_count": null,
   "id": "3351db23-e0c6-44bd-8bef-3b319f2b34b7",
   "metadata": {},
   "outputs": [],
   "source": []
  },
  {
   "cell_type": "code",
   "execution_count": null,
   "id": "fafbbb1f-28e1-4f4d-8654-c0993253018b",
   "metadata": {},
   "outputs": [],
   "source": []
  },
  {
   "cell_type": "code",
   "execution_count": null,
   "id": "9b9823d5-9316-4038-99b4-7521a60336e8",
   "metadata": {},
   "outputs": [],
   "source": []
  },
  {
   "cell_type": "code",
   "execution_count": null,
   "id": "1eb2030b-3587-4833-8412-8e76f7406059",
   "metadata": {},
   "outputs": [],
   "source": []
  },
  {
   "cell_type": "code",
   "execution_count": null,
   "id": "2af39928-865c-4199-9a0c-f3822b1bd9f0",
   "metadata": {},
   "outputs": [],
   "source": []
  },
  {
   "cell_type": "code",
   "execution_count": null,
   "id": "620444fe-2869-4cfa-afa4-0e36d5b2ecf0",
   "metadata": {},
   "outputs": [],
   "source": []
  },
  {
   "cell_type": "code",
   "execution_count": null,
   "id": "481c70e1-9fb7-456c-9834-2e802aed864f",
   "metadata": {},
   "outputs": [],
   "source": []
  },
  {
   "cell_type": "code",
   "execution_count": null,
   "id": "49a716b4-780e-46e0-864b-138209340398",
   "metadata": {},
   "outputs": [],
   "source": []
  },
  {
   "cell_type": "code",
   "execution_count": null,
   "id": "80b5f362-6dda-4ace-bf06-adbb8847a4ec",
   "metadata": {},
   "outputs": [],
   "source": []
  },
  {
   "cell_type": "code",
   "execution_count": null,
   "id": "cc5d01c6-cd38-4051-a2c7-34ad688d65eb",
   "metadata": {},
   "outputs": [],
   "source": []
  },
  {
   "cell_type": "code",
   "execution_count": null,
   "id": "3b42293e-5b18-4f75-8040-53dd91ac5c4a",
   "metadata": {},
   "outputs": [],
   "source": []
  },
  {
   "cell_type": "code",
   "execution_count": null,
   "id": "087aaa7c-eaf8-4dd4-aef2-60beac031aca",
   "metadata": {},
   "outputs": [],
   "source": []
  },
  {
   "cell_type": "code",
   "execution_count": null,
   "id": "2bc42ba8-f11a-4ae5-b81a-a63e3f47ad92",
   "metadata": {},
   "outputs": [],
   "source": []
  }
 ],
 "metadata": {
  "kernelspec": {
   "display_name": "Python 3 (ipykernel)",
   "language": "python",
   "name": "python3"
  },
  "language_info": {
   "codemirror_mode": {
    "name": "ipython",
    "version": 3
   },
   "file_extension": ".py",
   "mimetype": "text/x-python",
   "name": "python",
   "nbconvert_exporter": "python",
   "pygments_lexer": "ipython3",
   "version": "3.11.7"
  }
 },
 "nbformat": 4,
 "nbformat_minor": 5
}
